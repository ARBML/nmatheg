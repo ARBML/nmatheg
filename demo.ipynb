{
 "metadata": {
  "language_info": {
   "codemirror_mode": {
    "name": "ipython",
    "version": 3
   },
   "file_extension": ".py",
   "mimetype": "text/x-python",
   "name": "python",
   "nbconvert_exporter": "python",
   "pygments_lexer": "ipython3",
   "version": "3.8.2-final"
  },
  "orig_nbformat": 2,
  "kernelspec": {
   "name": "python3",
   "display_name": "Python 3.8.2 64-bit",
   "metadata": {
    "interpreter": {
     "hash": "31f2aee4e71d21fbe5cf8b01ff0e069b9275f58929596ceb00d14d90e3e16cd6"
    }
   }
  }
 },
 "nbformat": 4,
 "nbformat_minor": 2,
 "cells": [
  {
   "cell_type": "code",
   "execution_count": null,
   "metadata": {},
   "outputs": [],
   "source": [
    "!pip install nmatheg"
   ]
  },
  {
   "cell_type": "code",
   "execution_count": null,
   "metadata": {},
   "outputs": [],
   "source": [
    "config = '''\n",
    "[dataset]\n",
    "dataset_name = ajgt_twitter_ar\n",
    "task = classification \n",
    "\n",
    "[preprocessing]\n",
    "segment = False\n",
    "remove_special_chars = False\n",
    "remove_english = False\n",
    "normalize = False\n",
    "remove_diacritics = False\n",
    "excluded_chars = []\n",
    "remove_tatweel = False\n",
    "remove_html_elements = False\n",
    "remove_links = False \n",
    "remove_twitter_meta = False\n",
    "remove_long_words = False\n",
    "remove_repeated_chars = False\n",
    "\n",
    "[tokenization]\n",
    "tokenizer_name = WordTokenizer\n",
    "vocab_size = 1000\n",
    "max_tokens = 128\n",
    "\n",
    "[model]\n",
    "model_name = rnn\n",
    "\n",
    "[log]\n",
    "print_every = 10\n",
    "\n",
    "[train]\n",
    "save_dir = .\n",
    "epochs = 10\n",
    "batch_size = 256  \n",
    "''' \n",
    "\n",
    "with open('config.ini', 'w') as f:\n",
    "    f.write(config)"
   ]
  },
  {
   "cell_type": "code",
   "execution_count": null,
   "metadata": {},
   "outputs": [],
   "source": [
    "import nmatheg as nm\n",
    "strategy = nm.TrainStrategy('config.ini')"
   ]
  },
  {
   "cell_type": "code",
   "execution_count": null,
   "metadata": {
    "tags": []
   },
   "outputs": [],
   "source": [
    "strategy.start()"
   ]
  },
  {
   "cell_type": "code",
   "execution_count": null,
   "metadata": {},
   "outputs": [],
   "source": [
    "config = '''\n",
    "[dataset]\n",
    "dataset_name = ajgt_twitter_ar\n",
    "task = classification \n",
    "\n",
    "[preprocessing]\n",
    "segment = False\n",
    "remove_special_chars = False\n",
    "remove_english = False\n",
    "normalize = False\n",
    "remove_diacritics = False\n",
    "excluded_chars = []\n",
    "remove_tatweel = False\n",
    "remove_html_elements = False\n",
    "remove_links = False \n",
    "remove_twitter_meta = False\n",
    "remove_long_words = False\n",
    "remove_repeated_chars = False\n",
    "\n",
    "[tokenization]\n",
    "tokenizer_name = WordTokenizer\n",
    "vocab_size = 10000\n",
    "max_tokens = 128\n",
    "\n",
    "[model]\n",
    "model_name = aubmindlab/bert-base-arabertv01\n",
    "\n",
    "[log]\n",
    "print_every = 100\n",
    "\n",
    "[train]\n",
    "dir = .\n",
    "epochs = 3\n",
    "batch_size = 8 \n",
    "''' \n",
    "\n",
    "with open('config.ini', 'w') as f:\n",
    "    f.write(config)"
   ]
  },
  {
   "cell_type": "code",
   "execution_count": null,
   "metadata": {
    "tags": []
   },
   "outputs": [],
   "source": [
    "import nmatheg as nm\n",
    "strategy = nm.TrainStrategy('config.ini')\n",
    "strategy.start()"
   ]
  }
 ]
}