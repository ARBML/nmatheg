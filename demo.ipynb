{
 "metadata": {
  "language_info": {
   "codemirror_mode": {
    "name": "ipython",
    "version": 3
   },
   "file_extension": ".py",
   "mimetype": "text/x-python",
   "name": "python",
   "nbconvert_exporter": "python",
   "pygments_lexer": "ipython3",
   "version": "3.8.2-final"
  },
  "orig_nbformat": 2,
  "kernelspec": {
   "name": "python3",
   "display_name": "Python 3.8.2 64-bit",
   "metadata": {
    "interpreter": {
     "hash": "31f2aee4e71d21fbe5cf8b01ff0e069b9275f58929596ceb00d14d90e3e16cd6"
    }
   }
  }
 },
 "nbformat": 4,
 "nbformat_minor": 2,
 "cells": [
  {
   "cell_type": "code",
   "execution_count": null,
   "metadata": {},
   "outputs": [],
   "source": [
    "!pip install nmatheg"
   ]
  },
  {
   "cell_type": "code",
   "execution_count": 1,
   "metadata": {},
   "outputs": [],
   "source": [
    "config = '''\n",
    "[dataset]\n",
    "dataset_name = ajgt_twitter_ar\n",
    "task = classification \n",
    "\n",
    "[preprocessing]\n",
    "segment = False\n",
    "remove_special_chars = False\n",
    "remove_english = False\n",
    "normalize = False\n",
    "remove_diacritics = False\n",
    "excluded_chars = []\n",
    "remove_tatweel = False\n",
    "remove_html_elements = False\n",
    "remove_links = False \n",
    "remove_twitter_meta = False\n",
    "remove_long_words = False\n",
    "remove_repeated_chars = False\n",
    "\n",
    "[tokenization]\n",
    "tokenizer_name = WordTokenizer\n",
    "vocab_size = 1000\n",
    "max_tokens = 128\n",
    "\n",
    "[model]\n",
    "model_name = rnn\n",
    "\n",
    "[log]\n",
    "print_every = 10\n",
    "\n",
    "[train]\n",
    "dir = .\n",
    "epochs = 10\n",
    "batch_size = 256 \n",
    "''' \n",
    "\n",
    "with open('config.ini', 'w') as f:\n",
    "    f.write(config)"
   ]
  },
  {
   "cell_type": "code",
   "execution_count": 2,
   "metadata": {},
   "outputs": [
    {
     "output_type": "stream",
     "name": "stderr",
     "text": [
      "Reusing dataset ajgt_twitter_ar (/home/zaid/.cache/huggingface/datasets/ajgt_twitter_ar/plain_text/1.0.0/e113d014456168156a6ce74eb93efbeced96e60504762cf57a55024146860fa1)\n",
      "Loading cached processed dataset at /home/zaid/.cache/huggingface/datasets/ajgt_twitter_ar/plain_text/1.0.0/e113d014456168156a6ce74eb93efbeced96e60504762cf57a55024146860fa1/cache-6a601b1c92265d54.arrow\n",
      "Training WordTokenizer ...\n",
      "Loading cached processed dataset at /home/zaid/.cache/huggingface/datasets/ajgt_twitter_ar/plain_text/1.0.0/e113d014456168156a6ce74eb93efbeced96e60504762cf57a55024146860fa1/cache-1bed173f51b453d9.arrow\n",
      "Loading cached processed dataset at /home/zaid/.cache/huggingface/datasets/ajgt_twitter_ar/plain_text/1.0.0/e113d014456168156a6ce74eb93efbeced96e60504762cf57a55024146860fa1/cache-de3e135d80460a54.arrow\n",
      "Loading cached split indices for dataset at /home/zaid/.cache/huggingface/datasets/ajgt_twitter_ar/plain_text/1.0.0/e113d014456168156a6ce74eb93efbeced96e60504762cf57a55024146860fa1/cache-74abf79a15d2f2ee.arrow and /home/zaid/.cache/huggingface/datasets/ajgt_twitter_ar/plain_text/1.0.0/e113d014456168156a6ce74eb93efbeced96e60504762cf57a55024146860fa1/cache-40f4e88e54a94ddc.arrow\n",
      "/home/zaid/.local/lib/python3.8/site-packages/torch/cuda/__init__.py:52: UserWarning: CUDA initialization: Found no NVIDIA driver on your system. Please check that you have an NVIDIA GPU and installed a driver from http://www.nvidia.com/Download/index.aspx (Triggered internally at  /pytorch/c10/cuda/CUDAFunctions.cpp:100.)\n",
      "  return torch._C._cuda_getDeviceCount() > 0\n"
     ]
    }
   ],
   "source": [
    "import nmatheg as nm\n",
    "strategy = nm.TrainStrategy('config.ini')"
   ]
  },
  {
   "cell_type": "code",
   "execution_count": 3,
   "metadata": {
    "tags": []
   },
   "outputs": [
    {
     "output_type": "stream",
     "name": "stdout",
     "text": [
      "Epoch 0 Batch 0 Train Loss 0.7107 Train Accuracy 0.4375\n",
      "Epoch 0 Valid Loss 1.3681 Valid Accuracy 0.5889\n",
      "Epoch 1 Batch 0 Train Loss 0.6936 Train Accuracy 0.4961\n",
      "Epoch 1 Valid Loss 1.3526 Valid Accuracy 0.6278\n",
      "Epoch 2 Batch 0 Train Loss 0.6834 Train Accuracy 0.5547\n",
      "Epoch 2 Valid Loss 1.3411 Valid Accuracy 0.6278\n",
      "Epoch 3 Batch 0 Train Loss 0.6753 Train Accuracy 0.5586\n",
      "Epoch 3 Valid Loss 1.3309 Valid Accuracy 0.6389\n",
      "Epoch 4 Batch 0 Train Loss 0.6684 Train Accuracy 0.5820\n",
      "Epoch 4 Valid Loss 1.3211 Valid Accuracy 0.6444\n",
      "Epoch 5 Batch 0 Train Loss 0.6621 Train Accuracy 0.6055\n",
      "Epoch 5 Valid Loss 1.3118 Valid Accuracy 0.6444\n",
      "Epoch 6 Batch 0 Train Loss 0.6565 Train Accuracy 0.5938\n",
      "Epoch 6 Valid Loss 1.3036 Valid Accuracy 0.6500\n",
      "Epoch 7 Batch 0 Train Loss 0.6516 Train Accuracy 0.6094\n",
      "Epoch 7 Valid Loss 1.2966 Valid Accuracy 0.6556\n",
      "Epoch 8 Batch 0 Train Loss 0.6472 Train Accuracy 0.6250\n",
      "Epoch 8 Valid Loss 1.2908 Valid Accuracy 0.6556\n",
      "Epoch 9 Batch 0 Train Loss 0.6432 Train Accuracy 0.6406\n",
      "Epoch 9 Valid Loss 1.2857 Valid Accuracy 0.6667\n",
      "Test Loss 1.2387 Test Accuracy 0.6975\n"
     ]
    }
   ],
   "source": [
    "strategy.start()"
   ]
  },
  {
   "cell_type": "code",
   "execution_count": 6,
   "metadata": {},
   "outputs": [],
   "source": [
    "config = '''\n",
    "[dataset]\n",
    "dataset_name = ajgt_twitter_ar\n",
    "task = classification \n",
    "\n",
    "[preprocessing]\n",
    "segment = False\n",
    "remove_special_chars = False\n",
    "remove_english = False\n",
    "normalize = False\n",
    "remove_diacritics = False\n",
    "excluded_chars = []\n",
    "remove_tatweel = False\n",
    "remove_html_elements = False\n",
    "remove_links = False \n",
    "remove_twitter_meta = False\n",
    "remove_long_words = False\n",
    "remove_repeated_chars = False\n",
    "\n",
    "[tokenization]\n",
    "tokenizer_name = WordTokenizer\n",
    "vocab_size = 10000\n",
    "max_tokens = 128\n",
    "\n",
    "[model]\n",
    "model_name = aubmindlab/bert-base-arabertv01\n",
    "\n",
    "[log]\n",
    "print_every = 100\n",
    "\n",
    "[train]\n",
    "dir = .\n",
    "epochs = 10\n",
    "batch_size = 256 \n",
    "''' \n",
    "\n",
    "with open('config.ini', 'w') as f:\n",
    "    f.write(config)"
   ]
  },
  {
   "cell_type": "code",
   "execution_count": 7,
   "metadata": {
    "tags": []
   },
   "outputs": [
    {
     "output_type": "stream",
     "name": "stderr",
     "text": [
      "Reusing dataset ajgt_twitter_ar (/home/zaid/.cache/huggingface/datasets/ajgt_twitter_ar/plain_text/1.0.0/e113d014456168156a6ce74eb93efbeced96e60504762cf57a55024146860fa1)\n",
      "Loading cached processed dataset at /home/zaid/.cache/huggingface/datasets/ajgt_twitter_ar/plain_text/1.0.0/e113d014456168156a6ce74eb93efbeced96e60504762cf57a55024146860fa1/cache-6a601b1c92265d54.arrow\n"
     ]
    },
    {
     "output_type": "display_data",
     "data": {
      "text/plain": "HBox(children=(FloatProgress(value=0.0, max=2.0), HTML(value='')))",
      "application/vnd.jupyter.widget-view+json": {
       "version_major": 2,
       "version_minor": 0,
       "model_id": "cd443b0219224586977b43bfd9ec2563"
      }
     },
     "metadata": {}
    },
    {
     "output_type": "stream",
     "name": "stdout",
     "text": [
      "\n"
     ]
    },
    {
     "output_type": "display_data",
     "data": {
      "text/plain": "HBox(children=(FloatProgress(value=0.0, max=2.0), HTML(value='')))",
      "application/vnd.jupyter.widget-view+json": {
       "version_major": 2,
       "version_minor": 0,
       "model_id": "8bd205e698de48f09f0e419b3b54d123"
      }
     },
     "metadata": {}
    },
    {
     "output_type": "stream",
     "name": "stdout",
     "text": [
      "\n",
      "Some weights of the model checkpoint at aubmindlab/bert-base-arabertv01 were not used when initializing BertForSequenceClassification: ['cls.predictions.bias', 'cls.predictions.transform.dense.weight', 'cls.predictions.transform.dense.bias', 'cls.predictions.transform.LayerNorm.weight', 'cls.predictions.transform.LayerNorm.bias', 'cls.predictions.decoder.weight', 'cls.predictions.decoder.bias', 'cls.seq_relationship.weight', 'cls.seq_relationship.bias']\n",
      "- This IS expected if you are initializing BertForSequenceClassification from the checkpoint of a model trained on another task or with another architecture (e.g. initializing a BertForSequenceClassification model from a BertForPreTraining model).\n",
      "- This IS NOT expected if you are initializing BertForSequenceClassification from the checkpoint of a model that you expect to be exactly identical (initializing a BertForSequenceClassification model from a BertForSequenceClassification model).\n",
      "Some weights of BertForSequenceClassification were not initialized from the model checkpoint at aubmindlab/bert-base-arabertv01 and are newly initialized: ['classifier.weight', 'classifier.bias']\n",
      "You should probably TRAIN this model on a down-stream task to be able to use it for predictions and inference.\n"
     ]
    }
   ],
   "source": [
    "import nmatheg as nm\n",
    "strategy = nm.TrainStrategy('config.ini')\n",
    "strategy.start()"
   ]
  }
 ]
}